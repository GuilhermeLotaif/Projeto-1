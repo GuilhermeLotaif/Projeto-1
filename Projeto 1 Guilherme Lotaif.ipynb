{
 "cells": [
  {
   "cell_type": "markdown",
   "metadata": {},
   "source": [
    "# Projeto 1\n",
    "Nome: Guilherme Lotaif\n",
    "***\n",
    "**Análise exploratória dos dados do World Bank**."
   ]
  },
  {
   "cell_type": "markdown",
   "metadata": {},
   "source": [
    "Esse projeto tem como objetivo estabelecer uma relação entre 3 bancos de dados diferentes obtidos pelo site: www.gapminder.org, através de uma pergunta. \n",
    "Bancos de dados levantados para análise:\n",
    "\n",
    "- IDH (Índice de Desenvolvimento Humano);\n",
    "- Consumo residencial de eletricidade (por pessoa);\n",
    "- Usuários da internet (total)."
   ]
  },
  {
   "cell_type": "markdown",
   "metadata": {},
   "source": [
    "### Pergunta norteadora:   Será que um país com um baixo índice de desenvolvimento humando tem um gasto residencial de eletricidade pequeno? Podendo assim limitar a quantidade de usuários na internet?"
   ]
  },
  {
   "cell_type": "code",
   "execution_count": 6,
   "metadata": {},
   "outputs": [],
   "source": [
    "#importando bibliotecas\n",
    "import pandas as pd\n",
    "import matplotlib.pyplot as plt\n",
    "import numpy as np"
   ]
  },
  {
   "cell_type": "markdown",
   "metadata": {},
   "source": [
    "***\n",
    "**Leitura dos arquivos:**"
   ]
  },
  {
   "cell_type": "code",
   "execution_count": 7,
   "metadata": {},
   "outputs": [],
   "source": [
    "Energy_consumption = pd.read_excel('Indicator_Residential electricity consumption per person.xlsx')\n",
    "\n",
    "Internet_users = pd.read_excel('Internet user total.xlsx')\n",
    "\n",
    "HDI = pd.read_excel('hdi_human_development_index.xlsx')"
   ]
  },
  {
   "cell_type": "markdown",
   "metadata": {},
   "source": [
    "***\n",
    "**Seleção do ano analisado:**"
   ]
  },
  {
   "cell_type": "code",
   "execution_count": 8,
   "metadata": {},
   "outputs": [],
   "source": [
    "Energy_consumption_2008 = Energy_consumption.loc[:, [\"Residential electricity consumption, per person (kWh)\", 2008]]\n",
    "\n",
    "Internet_users_2008 = Internet_users.loc[:, [\"Internet users, total number\", 2008]]\n",
    "\n",
    "HDI_2008 = HDI.loc[:, [\"geo\", 2008]]"
   ]
  },
  {
   "cell_type": "markdown",
   "metadata": {},
   "source": [
    "***\n",
    "**Mudança dos índices:**"
   ]
  },
  {
   "cell_type": "code",
   "execution_count": 9,
   "metadata": {},
   "outputs": [],
   "source": [
    "Energy_consumption_2008_idx = Energy_consumption_2008.set_index('Residential electricity consumption, per person (kWh)')\n",
    "\n",
    "Internet_users_2008_idx = Internet_users_2008.set_index('Internet users, total number')\n",
    "\n",
    "HDI_2008_idx = HDI_2008.set_index('geo')"
   ]
  },
  {
   "cell_type": "markdown",
   "metadata": {},
   "source": [
    "***\n",
    "**Criação do Dataframe:**"
   ]
  },
  {
   "cell_type": "code",
   "execution_count": 43,
   "metadata": {},
   "outputs": [
    {
     "data": {
      "text/html": [
       "<div>\n",
       "<style scoped>\n",
       "    .dataframe tbody tr th:only-of-type {\n",
       "        vertical-align: middle;\n",
       "    }\n",
       "\n",
       "    .dataframe tbody tr th {\n",
       "        vertical-align: top;\n",
       "    }\n",
       "\n",
       "    .dataframe thead th {\n",
       "        text-align: right;\n",
       "    }\n",
       "</style>\n",
       "<table border=\"1\" class=\"dataframe\">\n",
       "  <thead>\n",
       "    <tr style=\"text-align: right;\">\n",
       "      <th></th>\n",
       "      <th>2008_Energy Consumption</th>\n",
       "      <th>2008_Internet users</th>\n",
       "      <th>2008_HDI</th>\n",
       "    </tr>\n",
       "  </thead>\n",
       "  <tbody>\n",
       "    <tr>\n",
       "      <th>Albania</th>\n",
       "      <td>636.341383</td>\n",
       "      <td>7.590813e+05</td>\n",
       "      <td>0.721</td>\n",
       "    </tr>\n",
       "    <tr>\n",
       "      <th>Algeria</th>\n",
       "      <td>590.509814</td>\n",
       "      <td>3.504773e+06</td>\n",
       "      <td>0.705</td>\n",
       "    </tr>\n",
       "    <tr>\n",
       "      <th>Angola</th>\n",
       "      <td>172.999227</td>\n",
       "      <td>8.297463e+05</td>\n",
       "      <td>0.480</td>\n",
       "    </tr>\n",
       "    <tr>\n",
       "      <th>Argentina</th>\n",
       "      <td>768.428300</td>\n",
       "      <td>1.116473e+07</td>\n",
       "      <td>0.794</td>\n",
       "    </tr>\n",
       "    <tr>\n",
       "      <th>Armenia</th>\n",
       "      <td>603.763058</td>\n",
       "      <td>1.912113e+05</td>\n",
       "      <td>0.725</td>\n",
       "    </tr>\n",
       "  </tbody>\n",
       "</table>\n",
       "</div>"
      ],
      "text/plain": [
       "           2008_Energy Consumption  2008_Internet users  2008_HDI\n",
       "Albania                 636.341383         7.590813e+05     0.721\n",
       "Algeria                 590.509814         3.504773e+06     0.705\n",
       "Angola                  172.999227         8.297463e+05     0.480\n",
       "Argentina               768.428300         1.116473e+07     0.794\n",
       "Armenia                 603.763058         1.912113e+05     0.725"
      ]
     },
     "execution_count": 43,
     "metadata": {},
     "output_type": "execute_result"
    }
   ],
   "source": [
    "df_2008 = Energy_consumption_2008_idx.join(Internet_users_2008_idx, how='inner', lsuffix='_Energy Consumption', rsuffix='_Internet users')\n",
    "\n",
    "dataframe_2008 = df_2008.join(HDI_2008_idx, how='inner', lsuffix='HDI')\n",
    "\n",
    "dataframe_2008.rename(columns={dataframe_2008.columns[2]:'2008_HDI'}, inplace=True)\n",
    "\n",
    "dataframe_2008 = dataframe_2008.dropna()\n",
    "\n",
    "dataframe_2008.head()"
   ]
  },
  {
   "cell_type": "markdown",
   "metadata": {},
   "source": [
    "***Observação:***\n",
    "A tabela acima mostra que com o crescimento do IDH as outras variáveis tendem a crescer junto, porém com excessões e sem uma correlação implicita de imediato. é possivel perceber que paises com o IDh mais baixo tem um consumo de energia menos porém não tem necessariamente um numero pequeno de usuarios de internet."
   ]
  },
  {
   "cell_type": "markdown",
   "metadata": {},
   "source": [
    "## Correlação dos dados"
   ]
  },
  {
   "cell_type": "code",
   "execution_count": 38,
   "metadata": {},
   "outputs": [
    {
     "data": {
      "text/html": [
       "<div>\n",
       "<style scoped>\n",
       "    .dataframe tbody tr th:only-of-type {\n",
       "        vertical-align: middle;\n",
       "    }\n",
       "\n",
       "    .dataframe tbody tr th {\n",
       "        vertical-align: top;\n",
       "    }\n",
       "\n",
       "    .dataframe thead th {\n",
       "        text-align: right;\n",
       "    }\n",
       "</style>\n",
       "<table border=\"1\" class=\"dataframe\">\n",
       "  <thead>\n",
       "    <tr style=\"text-align: right;\">\n",
       "      <th></th>\n",
       "      <th>Energy Comsumption</th>\n",
       "      <th>Internet Users</th>\n",
       "      <th>HDI</th>\n",
       "    </tr>\n",
       "  </thead>\n",
       "  <tbody>\n",
       "    <tr>\n",
       "      <th>2008_Energy Consumption</th>\n",
       "      <td>1.000000</td>\n",
       "      <td>0.077523</td>\n",
       "      <td>0.555847</td>\n",
       "    </tr>\n",
       "    <tr>\n",
       "      <th>2008_Internet users</th>\n",
       "      <td>0.077523</td>\n",
       "      <td>1.000000</td>\n",
       "      <td>0.142537</td>\n",
       "    </tr>\n",
       "    <tr>\n",
       "      <th>2008_HDI</th>\n",
       "      <td>0.555847</td>\n",
       "      <td>0.142537</td>\n",
       "      <td>1.000000</td>\n",
       "    </tr>\n",
       "  </tbody>\n",
       "</table>\n",
       "</div>"
      ],
      "text/plain": [
       "                         Energy Comsumption  Internet Users       HDI\n",
       "2008_Energy Consumption            1.000000        0.077523  0.555847\n",
       "2008_Internet users                0.077523        1.000000  0.142537\n",
       "2008_HDI                           0.555847        0.142537  1.000000"
      ]
     },
     "execution_count": 38,
     "metadata": {},
     "output_type": "execute_result"
    }
   ],
   "source": [
    "correlacao_2008 = dataframe_2008.loc[:, ['2008_Energy Consumption','2008_Internet users','2008_HDI']].corr()\n",
    "correlacao_2008.rename(columns={dataframe_2008.columns[0]:'Energy Comsumption'}, inplace=True)\n",
    "correlacao_2008.rename(columns={dataframe_2008.columns[1]:'Internet Users'}, inplace=True)\n",
    "correlacao_2008.rename(columns={dataframe_2008.columns[2]:'HDI'}, inplace=True)\n",
    "correlacao_2008.head()"
   ]
  },
  {
   "cell_type": "markdown",
   "metadata": {},
   "source": [
    "**Observação:**\n",
    "A partir da tabela acima é possivel assumir que existe uma correlação do IDH com o consumo de energia, apesar da mesma ser de média para pequena, ela ainda é maior do que a correlação entre os usuários de internet e o IDH"
   ]
  },
  {
   "cell_type": "markdown",
   "metadata": {},
   "source": [
    "***\n",
    "**Criação de gráficos para análise:**"
   ]
  },
  {
   "cell_type": "code",
   "execution_count": 46,
   "metadata": {},
   "outputs": [
    {
     "data": {
      "image/png": "[encoded data removed]",
      "text/plain": [
       "<matplotlib.figure.Figure at 0x11813bdd8>"
      ]
     },
     "metadata": {},
     "output_type": "display_data"
    },
    {
     "name": "stdout",
     "output_type": "stream",
     "text": [
      "Correlação: 0.5558473607606391 \n",
      "\n"
     ]
    },
    {
     "data": {
      "image/png": "[encoded data removed]",
      "text/plain": [
       "<matplotlib.figure.Figure at 0x1125426a0>"
      ]
     },
     "metadata": {},
     "output_type": "display_data"
    },
    {
     "name": "stdout",
     "output_type": "stream",
     "text": [
      "Correlação: 0.1425369281002745\n"
     ]
    }
   ],
   "source": [
    "#Gráfico de Consumo de energia pelo IDH\n",
    "cov = dataframe_2008['2008_Energy Consumption'].cov(dataframe_2008['2008_HDI'])\n",
    "\n",
    "var_X = dataframe_2008['2008_Energy Consumption'].var()\n",
    "var_Y = dataframe_2008['2008_HDI'].var()\n",
    "\n",
    "mX = dataframe_2008['2008_Energy Consumption'].mean()\n",
    "mY = dataframe_2008['2008_HDI'].mean()\n",
    "\n",
    "a = cov / var_X\n",
    "b = mY - a*mX\n",
    "dataframe_2008.plot.scatter(x='2008_Energy Consumption', y='2008_HDI',loglog=True, color=['green','darkblue'])\n",
    "\n",
    "plt.plot((dataframe_2008['2008_Energy Consumption'].min(), dataframe_2008['2008_Energy Consumption'].max()), \n",
    "         (a*dataframe_2008['2008_Energy Consumption'].min() + b, a*dataframe_2008['2008_Energy Consumption'].max() + b), color='red')\n",
    "plt.title('Energy Consumption and HDI (2008)')\n",
    "plt.xlabel('Energy Consumption')\n",
    "plt.ylabel('HDI');\n",
    "plt.show()\n",
    "print(\"Correlação:\",dataframe_2008['2008_Energy Consumption'].corr(dataframe_2008['2008_HDI']),'\\n')\n",
    "#---------------------------------------------------------------------------------------------------------------------\n",
    "\n",
    "#Gráfico de Usuarios de internet por IDH \n",
    "cov = dataframe_2008['2008_Internet users'].cov(dataframe_2008['2008_HDI'])\n",
    "\n",
    "var_X = dataframe_2008['2008_Internet users'].var()\n",
    "var_Y = dataframe_2008['2008_HDI'].var()\n",
    "\n",
    "mX = dataframe_2008['2008_Internet users'].mean()\n",
    "mY = dataframe_2008['2008_HDI'].mean()\n",
    "\n",
    "a = cov / var_X\n",
    "b = mY - a*mX\n",
    "dataframe_2008.plot.scatter(x='2008_Internet users', y='2008_HDI',loglog=True, color=['green','darkblue'])\n",
    "\n",
    "plt.plot((dataframe_2008['2008_Internet users'].min(), dataframe_2008['2008_Internet users'].max()), \n",
    "         (a*dataframe_2008['2008_Internet users'].min() + b, a*dataframe_2008['2008_Internet users'].max() + b), color='red')\n",
    "\n",
    "plt.title('Internet users and HDI (2008)')\n",
    "plt.xlabel('Internet Users')\n",
    "plt.ylabel('HDI');\n",
    "plt.show()\n",
    "print(\"Correlação:\",dataframe_2008['2008_Internet users'].corr(dataframe_2008['2008_HDI']))"
   ]
  },
  {
   "cell_type": "markdown",
   "metadata": {},
   "source": [
    "***Observação:***\n",
    "Apesar do primeiro gráfico estar com a linha de tendencia da correlação fora da parte mais concentrada do gráfico, ela é mais relacionada com o IDH das  duas plotadas acima, que possibilita afirmar que o consumo de enrgia esta mais ligado ao IDH do que os usários de internet"
   ]
  },
  {
   "cell_type": "markdown",
   "metadata": {},
   "source": [
    "### Comparação:"
   ]
  },
  {
   "cell_type": "markdown",
   "metadata": {},
   "source": [
    "**Seleção de outros anos e trocando os índices:**"
   ]
  },
  {
   "cell_type": "code",
   "execution_count": 32,
   "metadata": {},
   "outputs": [],
   "source": [
    "#1997\n",
    "Energy_consumption_1997 = Energy_consumption.loc[:, [\"Residential electricity consumption, per person (kWh)\", 1997]]\n",
    "Internet_users_1997 = Internet_users.loc[:, [\"Internet users, total number\", 1997]]\n",
    "HDI_1997 = HDI.loc[:, [\"geo\", 1997]]\n",
    "#Mudança de índice\n",
    "Energy_consumption_1997_idx = Energy_consumption_1997.set_index('Residential electricity consumption, per person (kWh)')\n",
    "Internet_users_1997_idx = Internet_users_1997.set_index('Internet users, total number')\n",
    "HDI_1997_idx = HDI_1997.set_index('geo')\n",
    "#Criação do dataframe de 1997\n",
    "df_1997 = Energy_consumption_1997_idx.join(Internet_users_1997_idx, how='inner', lsuffix='_Energy Consumption', rsuffix='_Internet users')\n",
    "dataframe_1997 = df_1997.join(HDI_1997_idx, how='inner', lsuffix='HDI')\n",
    "dataframe_1997.rename(columns={dataframe_1997.columns[2]:'1997_HDI'}, inplace=True)\n",
    "dataframe_1997 = dataframe_1997.dropna()\n",
    "#---------------------------------------------------------------------------------------------------------------------\n",
    "\n",
    "#1999\n",
    "Energy_consumption_1999 = Energy_consumption.loc[:, [\"Residential electricity consumption, per person (kWh)\", 1999]]\n",
    "Internet_users_1999 = Internet_users.loc[:, [\"Internet users, total number\", 1999]]\n",
    "HDI_1999 = HDI.loc[:, [\"geo\", 1999]]\n",
    "#Mudança de índice\n",
    "Energy_consumption_1999_idx = Energy_consumption_1999.set_index('Residential electricity consumption, per person (kWh)')\n",
    "Internet_users_1999_idx = Internet_users_1999.set_index('Internet users, total number')\n",
    "HDI_1999_idx = HDI_1999.set_index('geo')\n",
    "#Criação do dataframe de 1999\n",
    "df_1999 = Energy_consumption_1999_idx.join(Internet_users_1999_idx, how='inner', lsuffix='_Energy Consumption', rsuffix='_Internet users')\n",
    "dataframe_1999 = df_1999.join(HDI_1999_idx, how='inner', lsuffix='HDI')\n",
    "dataframe_1999.rename(columns={dataframe_1999.columns[2]:'1999_HDI'}, inplace=True)\n",
    "dataframe_1999 = dataframe_1999.dropna()\n",
    "#---------------------------------------------------------------------------------------------------------------------\n",
    "\n",
    "#2004\n",
    "Energy_consumption_2004 = Energy_consumption.loc[:, [\"Residential electricity consumption, per person (kWh)\", 2004]]\n",
    "Internet_users_2004 = Internet_users.loc[:, [\"Internet users, total number\", 2004]]\n",
    "HDI_2004 = HDI.loc[:, [\"geo\", 2004]]\n",
    "#Mudança de índice\n",
    "Energy_consumption_2004_idx = Energy_consumption_2004.set_index('Residential electricity consumption, per person (kWh)')\n",
    "Internet_users_2004_idx = Internet_users_2004.set_index('Internet users, total number')\n",
    "HDI_2004_idx = HDI_2004.set_index('geo')\n",
    "#Criação do dataframe de 2004\n",
    "df_2004 = Energy_consumption_2004_idx.join(Internet_users_2004_idx, how='inner', lsuffix='_Energy Consumption', rsuffix='_Internet users')\n",
    "dataframe_2004 = df_2004.join(HDI_2004_idx, how='inner', lsuffix='HDI')\n",
    "dataframe_2004.rename(columns={dataframe_2004.columns[2]:'2004_HDI'}, inplace=True)\n",
    "dataframe_2004 = dataframe_2004.dropna()"
   ]
  },
  {
   "cell_type": "code",
   "execution_count": 33,
   "metadata": {},
   "outputs": [],
   "source": [
    "#Correlação em 1997\n",
    "Correlacao_Energy_1997 = dataframe_1997['1997_Energy Consumption'].corr(dataframe_1997['1997_HDI'])\n",
    "Correlacao_Internet_1997 = dataframe_1997['1997_Internet users'].corr(dataframe_1997['1997_HDI'])\n",
    "\n",
    "#Correlação em 1999\n",
    "Correlacao_Energy_1999 = dataframe_1999['1999_Energy Consumption'].corr(dataframe_1999['1999_HDI'])\n",
    "Correlacao_Internet_1999 = dataframe_1999['1999_Internet users'].corr(dataframe_1999['1999_HDI'])\n",
    "\n",
    "#Correlação em 2004\n",
    "Correlacao_Energy_2004 = dataframe_2004['2004_Energy Consumption'].corr(dataframe_2004['2004_HDI'])\n",
    "Correlacao_Internet_2004 = dataframe_2004['2004_Internet users'].corr(dataframe_2004['2004_HDI'])\n",
    "\n",
    "#Correlação em 2008\n",
    "Correlacao_Energy_2008 = dataframe_2008['2008_Energy Consumption'].corr(dataframe_2008['2008_HDI'])\n",
    "Correlacao_Internet_2008 = dataframe_2008['2008_Internet users'].corr(dataframe_2008['2008_HDI'])"
   ]
  },
  {
   "cell_type": "code",
   "execution_count": 37,
   "metadata": {},
   "outputs": [
    {
     "data": {
      "text/plain": [
       "Text(0.5,1,'Correlation Between energy comsumption and HDI')"
      ]
     },
     "execution_count": 37,
     "metadata": {},
     "output_type": "execute_result"
    },
    {
     "data": {
      "image/png": "[encoded data removed]",
      "text/plain": [
       "<matplotlib.figure.Figure at 0x117af5748>"
      ]
     },
     "metadata": {},
     "output_type": "display_data"
    }
   ],
   "source": [
    "#Definindo a Correlação para plotar\n",
    "Hist_Energy = [Correlacao_Energy_1997, Correlacao_Energy_1999, Correlacao_Energy_2004, Correlacao_Energy_2008]\n",
    "#definindo os anos analisados\n",
    "Years = ('1997', '1999', '2004', '2008')\n",
    "y_pos = np.arange(len(Years))\n",
    "#Plotando o gráfico\n",
    "plt.plot(y_pos, Hist_Energy)\n",
    "plt.xticks(y_pos, Years)\n",
    "plt.xlabel('Years')\n",
    "plt.ylabel('Correlation')\n",
    "plt.title('Correlation Between energy comsumption and HDI')"
   ]
  },
  {
   "cell_type": "code",
   "execution_count": 36,
   "metadata": {},
   "outputs": [
    {
     "data": {
      "text/plain": [
       "Text(0.5,1,'Correlation Between Internet Users and HDI')"
      ]
     },
     "execution_count": 36,
     "metadata": {},
     "output_type": "execute_result"
    },
    {
     "data": {
      "image/png": "[encoded data removed]",
      "text/plain": [
       "<matplotlib.figure.Figure at 0x10c913d68>"
      ]
     },
     "metadata": {},
     "output_type": "display_data"
    }
   ],
   "source": [
    "#Definindo a Correlação para plotar\n",
    "Hist_Internet = [Correlacao_Internet_1997, Correlacao_Internet_1999, Correlacao_Internet_2004, Correlacao_Internet_2008]\n",
    "#definindo os anos analisados\n",
    "Years = ('1997', '1999', '2004', '2008')\n",
    "y_pos = np.arange(len(Years))\n",
    "#Plotando o gráfico\n",
    "plt.plot(y_pos, Hist_Internet)\n",
    "plt.xticks(y_pos, Years)\n",
    "plt.xlabel('Years')\n",
    "plt.ylabel('Correlation')\n",
    "plt.title('Correlation Between Internet Users and HDI')"
   ]
  },
  {
   "cell_type": "markdown",
   "metadata": {},
   "source": [
    "### Conclusão:\n",
    "Hoje os indices de correlação dos três bancos de dados analisádos para determinados anos, estao menores, uma vez que, com o pregresso da globalização e com o baretamento de equipamentos que antes ficavam mais inacessiveis a quantidade de usuarios de internet estao crescendo cada vez mais. Ja qdo analisamos só o consumo de enrgia e o IDh ainda ha mais relacao porque a eletricidade ainda nao esta disponivel igualmente para todos os lugares, mas estab melhor do que ha alguns anos. "
   ]
  },
  {
   "cell_type": "code",
   "execution_count": null,
   "metadata": {},
   "outputs": [],
   "source": []
  }
 ],
 "metadata": {
  "kernelspec": {
   "display_name": "Python 3",
   "language": "python",
   "name": "python3"
  },
  "language_info": {
   "codemirror_mode": {
    "name": "ipython",
    "version": 3
   },
   "file_extension": ".py",
   "mimetype": "text/x-python",
   "name": "python",
   "nbconvert_exporter": "python",
   "pygments_lexer": "ipython3",
   "version": "3.6.4"
  }
 },
 "nbformat": 4,
 "nbformat_minor": 2
}
